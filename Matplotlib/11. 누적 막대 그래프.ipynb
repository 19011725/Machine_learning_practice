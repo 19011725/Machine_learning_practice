{
 "cells": [
  {
   "cell_type": "markdown",
   "id": "3f9daddf",
   "metadata": {},
   "source": [
    "# 11. 누적 막대 그래프"
   ]
  },
  {
   "cell_type": "code",
   "execution_count": 1,
   "id": "b93d296a",
   "metadata": {},
   "outputs": [],
   "source": [
    "import pandas as pd"
   ]
  },
  {
   "cell_type": "code",
   "execution_count": 2,
   "id": "23088a4c",
   "metadata": {},
   "outputs": [],
   "source": [
    "import matplotlib.pyplot as plt\n",
    "import matplotlib\n",
    "matplotlib.rcParams['font.family'] = 'Malgun Gothic' #windows\n",
    "matplotlib.rcParams['font.size'] = 15 #글자크기\n",
    "matplotlib.rcParams['axes.unicode_minus'] = False #한글 폰트 사용 시, 마이너스 글자가 깨지는 현상을 해결"
   ]
  },
  {
   "cell_type": "code",
   "execution_count": 3,
   "id": "eb464a7c",
   "metadata": {},
   "outputs": [
    {
     "data": {
      "text/html": [
       "<div>\n",
       "<style scoped>\n",
       "    .dataframe tbody tr th:only-of-type {\n",
       "        vertical-align: middle;\n",
       "    }\n",
       "\n",
       "    .dataframe tbody tr th {\n",
       "        vertical-align: top;\n",
       "    }\n",
       "\n",
       "    .dataframe thead th {\n",
       "        text-align: right;\n",
       "    }\n",
       "</style>\n",
       "<table border=\"1\" class=\"dataframe\">\n",
       "  <thead>\n",
       "    <tr style=\"text-align: right;\">\n",
       "      <th></th>\n",
       "      <th>지원번호</th>\n",
       "      <th>이름</th>\n",
       "      <th>키</th>\n",
       "      <th>학교</th>\n",
       "      <th>국어</th>\n",
       "      <th>영어</th>\n",
       "      <th>수학</th>\n",
       "      <th>과학</th>\n",
       "      <th>사회</th>\n",
       "      <th>SW특기</th>\n",
       "    </tr>\n",
       "  </thead>\n",
       "  <tbody>\n",
       "    <tr>\n",
       "      <th>0</th>\n",
       "      <td>1번</td>\n",
       "      <td>강민수</td>\n",
       "      <td>170</td>\n",
       "      <td>세종초</td>\n",
       "      <td>100</td>\n",
       "      <td>85</td>\n",
       "      <td>100</td>\n",
       "      <td>85</td>\n",
       "      <td>100</td>\n",
       "      <td>Python</td>\n",
       "    </tr>\n",
       "    <tr>\n",
       "      <th>1</th>\n",
       "      <td>2번</td>\n",
       "      <td>배성현</td>\n",
       "      <td>180</td>\n",
       "      <td>포항초</td>\n",
       "      <td>95</td>\n",
       "      <td>90</td>\n",
       "      <td>95</td>\n",
       "      <td>90</td>\n",
       "      <td>95</td>\n",
       "      <td>C</td>\n",
       "    </tr>\n",
       "    <tr>\n",
       "      <th>2</th>\n",
       "      <td>3번</td>\n",
       "      <td>박세환</td>\n",
       "      <td>175</td>\n",
       "      <td>동탄초</td>\n",
       "      <td>90</td>\n",
       "      <td>95</td>\n",
       "      <td>90</td>\n",
       "      <td>95</td>\n",
       "      <td>90</td>\n",
       "      <td>C++</td>\n",
       "    </tr>\n",
       "    <tr>\n",
       "      <th>3</th>\n",
       "      <td>4번</td>\n",
       "      <td>정태경</td>\n",
       "      <td>185</td>\n",
       "      <td>덕소초</td>\n",
       "      <td>85</td>\n",
       "      <td>100</td>\n",
       "      <td>85</td>\n",
       "      <td>100</td>\n",
       "      <td>85</td>\n",
       "      <td>NaN</td>\n",
       "    </tr>\n",
       "    <tr>\n",
       "      <th>4</th>\n",
       "      <td>5번</td>\n",
       "      <td>변은성</td>\n",
       "      <td>178</td>\n",
       "      <td>아산초</td>\n",
       "      <td>80</td>\n",
       "      <td>80</td>\n",
       "      <td>70</td>\n",
       "      <td>100</td>\n",
       "      <td>75</td>\n",
       "      <td>Java</td>\n",
       "    </tr>\n",
       "    <tr>\n",
       "      <th>5</th>\n",
       "      <td>6번</td>\n",
       "      <td>김주영</td>\n",
       "      <td>200</td>\n",
       "      <td>당진초</td>\n",
       "      <td>75</td>\n",
       "      <td>65</td>\n",
       "      <td>100</td>\n",
       "      <td>80</td>\n",
       "      <td>50</td>\n",
       "      <td>PYTHON</td>\n",
       "    </tr>\n",
       "    <tr>\n",
       "      <th>6</th>\n",
       "      <td>7번</td>\n",
       "      <td>정성윤</td>\n",
       "      <td>170</td>\n",
       "      <td>포항초</td>\n",
       "      <td>95</td>\n",
       "      <td>85</td>\n",
       "      <td>90</td>\n",
       "      <td>50</td>\n",
       "      <td>100</td>\n",
       "      <td>C</td>\n",
       "    </tr>\n",
       "  </tbody>\n",
       "</table>\n",
       "</div>"
      ],
      "text/plain": [
       "  지원번호   이름    키   학교   국어   영어   수학   과학   사회    SW특기\n",
       "0   1번  강민수  170  세종초  100   85  100   85  100  Python\n",
       "1   2번  배성현  180  포항초   95   90   95   90   95       C\n",
       "2   3번  박세환  175  동탄초   90   95   90   95   90     C++\n",
       "3   4번  정태경  185  덕소초   85  100   85  100   85     NaN\n",
       "4   5번  변은성  178  아산초   80   80   70  100   75    Java\n",
       "5   6번  김주영  200  당진초   75   65  100   80   50  PYTHON\n",
       "6   7번  정성윤  170  포항초   95   85   90   50  100       C"
      ]
     },
     "execution_count": 3,
     "metadata": {},
     "output_type": "execute_result"
    }
   ],
   "source": [
    "df = pd.read_excel('../Pandas/score.xlsx')\n",
    "df"
   ]
  },
  {
   "cell_type": "code",
   "execution_count": 4,
   "id": "df7e6424",
   "metadata": {},
   "outputs": [
    {
     "data": {
      "text/plain": [
       "<BarContainer object of 7 artists>"
      ]
     },
     "execution_count": 4,
     "metadata": {},
     "output_type": "execute_result"
    },
    {
     "data": {
      "image/png": "[encoded data removed]",
      "text/plain": [
       "<Figure size 432x288 with 1 Axes>"
      ]
     },
     "metadata": {
      "needs_background": "light"
     },
     "output_type": "display_data"
    }
   ],
   "source": [
    "plt.bar(df['이름'], df['국어'])\n",
    "plt.bar(df['이름'], df['영어'])"
   ]
  },
  {
   "cell_type": "code",
   "execution_count": 5,
   "id": "8ad4bbc3",
   "metadata": {},
   "outputs": [
    {
     "data": {
      "text/plain": [
       "<BarContainer object of 7 artists>"
      ]
     },
     "execution_count": 5,
     "metadata": {},
     "output_type": "execute_result"
    },
    {
     "data": {
      "image/png": "[encoded data removed]",
      "text/plain": [
       "<Figure size 432x288 with 1 Axes>"
      ]
     },
     "metadata": {
      "needs_background": "light"
     },
     "output_type": "display_data"
    }
   ],
   "source": [
    "plt.bar(df['이름'], df['국어'])\n",
    "plt.bar(df['이름'], df['영어'], bottom = df['국어']) #국어점수 위에 영어 점수를 쌓겠다."
   ]
  },
  {
   "cell_type": "code",
   "execution_count": 6,
   "id": "2246ce18",
   "metadata": {},
   "outputs": [
    {
     "data": {
      "text/plain": [
       "<BarContainer object of 7 artists>"
      ]
     },
     "execution_count": 6,
     "metadata": {},
     "output_type": "execute_result"
    },
    {
     "data": {
      "image/png": "[encoded data removed]",
      "text/plain": [
       "<Figure size 432x288 with 1 Axes>"
      ]
     },
     "metadata": {
      "needs_background": "light"
     },
     "output_type": "display_data"
    }
   ],
   "source": [
    "plt.bar(df['이름'], df['국어'])\n",
    "\n",
    "plt.bar(df['이름'], df['영어'], bottom = df['국어']) \n",
    "#국어점수 위에 영어 점수를 쌓겠다.\n",
    "\n",
    "plt.bar(df['이름'], df['수학'], bottom = df['국어'] + df['영어']) \n",
    "#국어,영어 위에 수학 성적 쌓겠다."
   ]
  },
  {
   "cell_type": "code",
   "execution_count": 7,
   "id": "2269e07d",
   "metadata": {},
   "outputs": [
    {
     "data": {
      "text/plain": [
       "<matplotlib.legend.Legend at 0x1e950121970>"
      ]
     },
     "execution_count": 7,
     "metadata": {},
     "output_type": "execute_result"
    },
    {
     "data": {
      "image/png": "[encoded data removed]",
      "text/plain": [
       "<Figure size 432x288 with 1 Axes>"
      ]
     },
     "metadata": {
      "needs_background": "light"
     },
     "output_type": "display_data"
    }
   ],
   "source": [
    "plt.bar(df['이름'], df['국어'], label = '국어')\n",
    "\n",
    "plt.bar(df['이름'], df['영어'], bottom = df['국어'], label = '영어') \n",
    "#국어점수 위에 영어 점수를 쌓겠다.\n",
    "\n",
    "plt.bar(df['이름'], df['수학'], bottom = df['국어'] + df['영어'], label = '수학') \n",
    "#국어,영어 위에 수학 성적 쌓겠다.\n",
    "\n",
    "plt.xticks(rotation=60)\n",
    "plt.legend()"
   ]
  }
 ],
 "metadata": {
  "kernelspec": {
   "display_name": "Python 3 (ipykernel)",
   "language": "python",
   "name": "python3"
  },
  "language_info": {
   "codemirror_mode": {
    "name": "ipython",
    "version": 3
   },
   "file_extension": ".py",
   "mimetype": "text/x-python",
   "name": "python",
   "nbconvert_exporter": "python",
   "pygments_lexer": "ipython3",
   "version": "3.9.7"
  }
 },
 "nbformat": 4,
 "nbformat_minor": 5
}
